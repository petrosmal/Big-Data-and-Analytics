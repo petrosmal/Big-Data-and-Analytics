{
 "cells": [
  {
   "cell_type": "code",
   "execution_count": null,
   "id": "a67abb05",
   "metadata": {
    "vscode": {
     "languageId": "plaintext"
    }
   },
   "outputs": [],
   "source": [
    "ss"
   ]
  }
 ],
 "metadata": {
  "language_info": {
   "name": "python"
  }
 },
 "nbformat": 4,
 "nbformat_minor": 5
}
